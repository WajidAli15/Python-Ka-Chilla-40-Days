{
 "cells": [
  {
   "cell_type": "code",
   "execution_count": 1,
   "id": "561b2db3-db37-4ad0-8218-178e01652f26",
   "metadata": {},
   "outputs": [
    {
     "name": "stdout",
     "output_type": "stream",
     "text": [
      "10\n"
     ]
    }
   ],
   "source": [
    "a = 4\n",
    "b = 6\n",
    "c= a+b\n",
    "print(c)"
   ]
  },
  {
   "cell_type": "code",
   "execution_count": 2,
   "id": "68b8b921-c513-42c5-bf29-d925a00e9e03",
   "metadata": {},
   "outputs": [
    {
     "data": {
      "text/plain": [
       "10"
      ]
     },
     "execution_count": 2,
     "metadata": {},
     "output_type": "execute_result"
    }
   ],
   "source": [
    "c"
   ]
  },
  {
   "cell_type": "markdown",
   "id": "988f071d-f847-4990-a656-1c2b31a26aee",
   "metadata": {},
   "source": [
    "# -indexing "
   ]
  },
  {
   "cell_type": "code",
   "execution_count": 4,
   "id": "725da9b1-253a-483b-b8de-dd0d8b741194",
   "metadata": {
    "scrolled": true
   },
   "outputs": [
    {
     "data": {
      "text/plain": [
       "'just chill'"
      ]
     },
     "execution_count": 4,
     "metadata": {},
     "output_type": "execute_result"
    }
   ],
   "source": [
    "# make a string \n",
    "a = \"just chill\"\n",
    "a"
   ]
  },
  {
   "cell_type": "code",
   "execution_count": 5,
   "id": "258393d6-a32d-453f-ac33-1e8d9070e98f",
   "metadata": {},
   "outputs": [
    {
     "data": {
      "text/plain": [
       "'j'"
      ]
     },
     "execution_count": 5,
     "metadata": {},
     "output_type": "execute_result"
    }
   ],
   "source": [
    "a[0]"
   ]
  },
  {
   "cell_type": "code",
   "execution_count": 6,
   "id": "a987ea21-1f28-4b86-8623-c43e24ddbda5",
   "metadata": {},
   "outputs": [
    {
     "data": {
      "text/plain": [
       "'u'"
      ]
     },
     "execution_count": 6,
     "metadata": {},
     "output_type": "execute_result"
    }
   ],
   "source": [
    "a[1]"
   ]
  },
  {
   "cell_type": "code",
   "execution_count": 7,
   "id": "47ee7bb9-bce7-4d9c-bb43-ec9946b3c847",
   "metadata": {},
   "outputs": [
    {
     "data": {
      "text/plain": [
       "'t'"
      ]
     },
     "execution_count": 7,
     "metadata": {},
     "output_type": "execute_result"
    }
   ],
   "source": [
    "a[3]"
   ]
  },
  {
   "cell_type": "code",
   "execution_count": 9,
   "id": "516a7ec9-45bc-4945-a946-2fdf8771789f",
   "metadata": {
    "scrolled": true
   },
   "outputs": [
    {
     "data": {
      "text/plain": [
       "10"
      ]
     },
     "execution_count": 9,
     "metadata": {},
     "output_type": "execute_result"
    }
   ],
   "source": [
    "# lenth of index\n",
    "len(a)"
   ]
  },
  {
   "cell_type": "code",
   "execution_count": 10,
   "id": "4cd86598-45fd-4fac-8e26-2a5a5b48fc7c",
   "metadata": {},
   "outputs": [
    {
     "data": {
      "text/plain": [
       "'just '"
      ]
     },
     "execution_count": 10,
     "metadata": {},
     "output_type": "execute_result"
    }
   ],
   "source": [
    "a[0:5]"
   ]
  },
  {
   "cell_type": "code",
   "execution_count": 11,
   "id": "b8a86d35-a4f4-4fc3-b556-387b87692788",
   "metadata": {},
   "outputs": [
    {
     "data": {
      "text/plain": [
       "'i'"
      ]
     },
     "execution_count": 11,
     "metadata": {},
     "output_type": "execute_result"
    }
   ],
   "source": [
    "a[-3]"
   ]
  },
  {
   "cell_type": "code",
   "execution_count": 12,
   "id": "5702e7f5-bda3-45b8-93b4-b3e2d126664d",
   "metadata": {},
   "outputs": [
    {
     "data": {
      "text/plain": [
       "'il'"
      ]
     },
     "execution_count": 12,
     "metadata": {},
     "output_type": "execute_result"
    }
   ],
   "source": [
    "a[-3:-1]"
   ]
  },
  {
   "cell_type": "markdown",
   "id": "71f9956f-8d23-479e-87bf-ae305982a4df",
   "metadata": {},
   "source": [
    "# String method "
   ]
  },
  {
   "cell_type": "code",
   "execution_count": 13,
   "id": "c87bb241-46ad-4a1e-8489-277166b93c4e",
   "metadata": {},
   "outputs": [
    {
     "name": "stdout",
     "output_type": "stream",
     "text": [
      "biryani\n"
     ]
    }
   ],
   "source": [
    "food = \"biryani\"\n",
    "print(food)"
   ]
  },
  {
   "cell_type": "code",
   "execution_count": 14,
   "id": "fb61e394-64f0-49e0-ae30-695958e8fd8f",
   "metadata": {},
   "outputs": [
    {
     "data": {
      "text/plain": [
       "7"
      ]
     },
     "execution_count": 14,
     "metadata": {},
     "output_type": "execute_result"
    }
   ],
   "source": [
    "len(food)"
   ]
  },
  {
   "cell_type": "code",
   "execution_count": 16,
   "id": "de8c9d8d-118c-426d-8861-332fb7dc79c3",
   "metadata": {},
   "outputs": [
    {
     "data": {
      "text/plain": [
       "'Biryani'"
      ]
     },
     "execution_count": 16,
     "metadata": {},
     "output_type": "execute_result"
    }
   ],
   "source": [
    "# 1st letter capital\n",
    "food.capitalize()"
   ]
  },
  {
   "cell_type": "code",
   "execution_count": 17,
   "id": "72784a64-5cb4-4838-9919-c66c2e5ab4a3",
   "metadata": {},
   "outputs": [
    {
     "data": {
      "text/plain": [
       "'BIRYANI'"
      ]
     },
     "execution_count": 17,
     "metadata": {},
     "output_type": "execute_result"
    }
   ],
   "source": [
    "# all letter capital\n",
    "food.upper()"
   ]
  },
  {
   "cell_type": "code",
   "execution_count": 18,
   "id": "3d984e29-d9bc-494e-bc4c-0ed97ec3f344",
   "metadata": {},
   "outputs": [
    {
     "data": {
      "text/plain": [
       "'biryani'"
      ]
     },
     "execution_count": 18,
     "metadata": {},
     "output_type": "execute_result"
    }
   ],
   "source": [
    "all letter small\n",
    "food.lower()"
   ]
  },
  {
   "cell_type": "code",
   "execution_count": 19,
   "id": "b2c855c6-6e96-4fb8-99fc-bca8ae2aa55a",
   "metadata": {},
   "outputs": [
    {
     "data": {
      "text/plain": [
       "'Shiryani'"
      ]
     },
     "execution_count": 19,
     "metadata": {},
     "output_type": "execute_result"
    }
   ],
   "source": [
    "# Replace word \n",
    "food.replace(\"b\",\"Sh\")"
   ]
  },
  {
   "cell_type": "code",
   "execution_count": 20,
   "id": "8c41a22a-7474-49ea-9749-923bb89495f2",
   "metadata": {},
   "outputs": [
    {
     "data": {
      "text/plain": [
       "'Lorem ipsum dolor sit amet consectetur adipisicing elit. Maxime mollitia'"
      ]
     },
     "execution_count": 20,
     "metadata": {},
     "output_type": "execute_result"
    }
   ],
   "source": [
    "# count a specific alphabet in string \n",
    "name = (\"Lorem ipsum dolor sit amet consectetur adipisicing elit. Maxime mollitia\")\n",
    "name"
   ]
  },
  {
   "cell_type": "code",
   "execution_count": 21,
   "id": "87e9f4d1-aed6-475c-9e3d-677f5645a38a",
   "metadata": {},
   "outputs": [
    {
     "data": {
      "text/plain": [
       "5"
      ]
     },
     "execution_count": 21,
     "metadata": {},
     "output_type": "execute_result"
    }
   ],
   "source": [
    "name.count(\"o\")"
   ]
  },
  {
   "cell_type": "code",
   "execution_count": 23,
   "id": "56cac281-0bc3-42e8-a49d-043212613021",
   "metadata": {},
   "outputs": [
    {
     "data": {
      "text/plain": [
       "57"
      ]
     },
     "execution_count": 23,
     "metadata": {},
     "output_type": "execute_result"
    }
   ],
   "source": [
    "name.find(\"M\")"
   ]
  },
  {
   "cell_type": "markdown",
   "id": "f9c0e1cc-8432-4a32-a448-f181f28ad38c",
   "metadata": {},
   "source": [
    "### How to split a string "
   ]
  },
  {
   "cell_type": "code",
   "execution_count": 24,
   "id": "2590c7bf-35d3-46c4-8255-af6bf8503b75",
   "metadata": {},
   "outputs": [
    {
     "data": {
      "text/plain": [
       "'I love biryani, raita, korma, karachi '"
      ]
     },
     "execution_count": 24,
     "metadata": {},
     "output_type": "execute_result"
    }
   ],
   "source": [
    "food=\"I love biryani, raita, korma, karachi \"\n",
    "food"
   ]
  },
  {
   "cell_type": "code",
   "execution_count": 25,
   "id": "870eb721-531a-4c63-8ed4-875232ad94bd",
   "metadata": {},
   "outputs": [
    {
     "data": {
      "text/plain": [
       "['I love biryani', ' raita', ' korma', ' karachi ']"
      ]
     },
     "execution_count": 25,
     "metadata": {},
     "output_type": "execute_result"
    }
   ],
   "source": [
    "food.split(\",\")"
   ]
  },
  {
   "cell_type": "markdown",
   "id": "4d28c80b-dcaa-4bbf-9d41-d2d736d2b604",
   "metadata": {},
   "source": [
    "# Basic data structure in python\n",
    "#### 1-Tuple\n",
    "#### 2-List\n",
    "#### 3-Dictionaries\n",
    "#### 4-Set"
   ]
  },
  {
   "cell_type": "markdown",
   "id": "c46fa9da-fd4e-48fe-87bb-6f17867a21af",
   "metadata": {},
   "source": [
    "## 1- Tuple  \n",
    "- oreder collection of element\n",
    "- enclosed in () round braces\\paranthesis\n",
    "- differnt kind of element can be stored\n",
    "- once element are stored you can not be change them"
   ]
  },
  {
   "cell_type": "code",
   "execution_count": 27,
   "id": "800d60c4-adf6-4c3d-aaf2-8a620acc80c7",
   "metadata": {},
   "outputs": [
    {
     "data": {
      "text/plain": [
       "tuple"
      ]
     },
     "execution_count": 27,
     "metadata": {},
     "output_type": "execute_result"
    }
   ],
   "source": [
    "tupl =(1, \"Python\", True, 2.5)\n",
    "tuple"
   ]
  },
  {
   "cell_type": "code",
   "execution_count": 28,
   "id": "b32793d2-ec0c-434b-b8c6-911efdb62d04",
   "metadata": {},
   "outputs": [
    {
     "data": {
      "text/plain": [
       "tuple"
      ]
     },
     "execution_count": 28,
     "metadata": {},
     "output_type": "execute_result"
    }
   ],
   "source": [
    "# Type of tuple \n",
    "type(tupl)"
   ]
  },
  {
   "cell_type": "markdown",
   "id": "9f674e9a-5f25-4265-a776-13e6a3a0b404",
   "metadata": {},
   "source": [
    "### indexing in tuple"
   ]
  },
  {
   "cell_type": "code",
   "execution_count": 29,
   "id": "424dfc2c-1beb-4df7-9bc3-99c409603233",
   "metadata": {},
   "outputs": [
    {
     "data": {
      "text/plain": [
       "'Python'"
      ]
     },
     "execution_count": 29,
     "metadata": {},
     "output_type": "execute_result"
    }
   ],
   "source": [
    "tupl[1]"
   ]
  },
  {
   "cell_type": "code",
   "execution_count": 30,
   "id": "04f7fe92-8a40-47a9-96aa-a0475712b3ab",
   "metadata": {},
   "outputs": [
    {
     "data": {
      "text/plain": [
       "True"
      ]
     },
     "execution_count": 30,
     "metadata": {},
     "output_type": "execute_result"
    }
   ],
   "source": [
    "tupl[2]"
   ]
  },
  {
   "cell_type": "code",
   "execution_count": 31,
   "id": "20b1cd51-2521-40da-9c16-8f8ccfba0d95",
   "metadata": {},
   "outputs": [
    {
     "data": {
      "text/plain": [
       "(1, 'Python', True)"
      ]
     },
     "execution_count": 31,
     "metadata": {},
     "output_type": "execute_result"
    }
   ],
   "source": [
    "tupl[0:3]"
   ]
  },
  {
   "cell_type": "code",
   "execution_count": 32,
   "id": "4389a282-57e2-4717-8e8c-d0a0056de830",
   "metadata": {},
   "outputs": [
    {
     "data": {
      "text/plain": [
       "(1, 'Python', True, 2.5)"
      ]
     },
     "execution_count": 32,
     "metadata": {},
     "output_type": "execute_result"
    }
   ],
   "source": [
    "tupl[0:4]"
   ]
  },
  {
   "cell_type": "code",
   "execution_count": 33,
   "id": "4447cf32-a90b-43df-aef5-e7f61b41c982",
   "metadata": {},
   "outputs": [
    {
     "data": {
      "text/plain": [
       "4"
      ]
     },
     "execution_count": 33,
     "metadata": {},
     "output_type": "execute_result"
    }
   ],
   "source": [
    "## Count of element tuple\n",
    "len(tupl)"
   ]
  },
  {
   "cell_type": "code",
   "execution_count": 34,
   "id": "467ec7ee-bb38-4143-9507-7436859b6c7d",
   "metadata": {},
   "outputs": [
    {
     "data": {
      "text/plain": [
       "(3, 'just chill', False, 3.5)"
      ]
     },
     "execution_count": 34,
     "metadata": {},
     "output_type": "execute_result"
    }
   ],
   "source": [
    "othertupl = (3, \"just chill\", False, 3.5)\n",
    "othertupl\n"
   ]
  },
  {
   "cell_type": "code",
   "execution_count": 35,
   "id": "709bec90-2daf-4938-aab5-e5789d1add0c",
   "metadata": {},
   "outputs": [
    {
     "data": {
      "text/plain": [
       "(1, 'Python', True, 2.5, 3, 'just chill', False, 3.5)"
      ]
     },
     "execution_count": 35,
     "metadata": {},
     "output_type": "execute_result"
    }
   ],
   "source": [
    "tupl + othertupl"
   ]
  },
  {
   "cell_type": "code",
   "execution_count": 37,
   "id": "eacbdc17-a060-4f24-84cd-c3302581a81c",
   "metadata": {},
   "outputs": [
    {
     "data": {
      "text/plain": [
       "(30, 42, 45, 60, 84, 99)"
      ]
     },
     "execution_count": 37,
     "metadata": {},
     "output_type": "execute_result"
    }
   ],
   "source": [
    "tupl3 =(30,42,45,60,84,99)\n",
    "tupl3"
   ]
  },
  {
   "cell_type": "code",
   "execution_count": 38,
   "id": "88ce641e-e38c-4ea7-b396-8ece7501a43c",
   "metadata": {},
   "outputs": [
    {
     "data": {
      "text/plain": [
       "30"
      ]
     },
     "execution_count": 38,
     "metadata": {},
     "output_type": "execute_result"
    }
   ],
   "source": [
    "#### Minimum value of tuple3 \n",
    "min(tupl3)"
   ]
  },
  {
   "cell_type": "code",
   "execution_count": 40,
   "id": "a83adf6e-5461-42a0-a47b-896d697aff89",
   "metadata": {},
   "outputs": [
    {
     "data": {
      "text/plain": [
       "99"
      ]
     },
     "execution_count": 40,
     "metadata": {},
     "output_type": "execute_result"
    }
   ],
   "source": [
    "###### maximum value tup3\n",
    "max(tupl3)"
   ]
  },
  {
   "cell_type": "markdown",
   "id": "b02e1d1b-1637-4df4-822a-7e86f1f9c704",
   "metadata": {},
   "source": [
    "---"
   ]
  },
  {
   "cell_type": "markdown",
   "id": "62d2bc35-801e-407d-bb3c-d8072b3c5dc2",
   "metadata": {},
   "source": [
    "## List \n",
    "- ordered collection of element \n",
    "- enclosed in [ ] square braces\\ brakets\n",
    "- Mutateable, you can change the value "
   ]
  },
  {
   "cell_type": "code",
   "execution_count": 41,
   "id": "438b79c0-108c-4d83-84b3-97f29d43d27d",
   "metadata": {},
   "outputs": [
    {
     "data": {
      "text/plain": [
       "[2, 'just chill', False, 2.89]"
      ]
     },
     "execution_count": 41,
     "metadata": {},
     "output_type": "execute_result"
    }
   ],
   "source": [
    "list1 = [2, \"just chill\", False, 2.89]\n",
    "list1"
   ]
  },
  {
   "cell_type": "code",
   "execution_count": 42,
   "id": "138689eb-32a3-4fab-bba7-ea186f94e3c0",
   "metadata": {},
   "outputs": [
    {
     "data": {
      "text/plain": [
       "list"
      ]
     },
     "execution_count": 42,
     "metadata": {},
     "output_type": "execute_result"
    }
   ],
   "source": [
    "type(list1)"
   ]
  },
  {
   "cell_type": "code",
   "execution_count": 43,
   "id": "9ba28ab1-8195-472a-b3cb-b5fc51aea3f8",
   "metadata": {},
   "outputs": [
    {
     "data": {
      "text/plain": [
       "4"
      ]
     },
     "execution_count": 43,
     "metadata": {},
     "output_type": "execute_result"
    }
   ],
   "source": [
    "len(list1)"
   ]
  },
  {
   "cell_type": "code",
   "execution_count": 44,
   "id": "d19c0e9b-c697-48e0-9b74-7ceedb8c98f3",
   "metadata": {},
   "outputs": [
    {
     "data": {
      "text/plain": [
       "False"
      ]
     },
     "execution_count": 44,
     "metadata": {},
     "output_type": "execute_result"
    }
   ],
   "source": [
    "list1[2]"
   ]
  },
  {
   "cell_type": "code",
   "execution_count": 45,
   "id": "3bf46da4-62c8-4a93-b7fc-78e203594e37",
   "metadata": {},
   "outputs": [
    {
     "data": {
      "text/plain": [
       "['happy', 30, 12.5, True]"
      ]
     },
     "execution_count": 45,
     "metadata": {},
     "output_type": "execute_result"
    }
   ],
   "source": [
    "list2 = [\"happy\", 30,12.5, True]\n",
    "list2"
   ]
  },
  {
   "cell_type": "code",
   "execution_count": 47,
   "id": "bdf214b5-b831-4aa4-a5df-0bb1843f3bb8",
   "metadata": {},
   "outputs": [
    {
     "data": {
      "text/plain": [
       "[2, 'just chill', False, 2.89, 'happy', 30, 12.5, True]"
      ]
     },
     "execution_count": 47,
     "metadata": {},
     "output_type": "execute_result"
    }
   ],
   "source": [
    "list1 + list2"
   ]
  },
  {
   "cell_type": "code",
   "execution_count": 50,
   "id": "a5908cf6-c4a0-4f42-a9c0-c51305e11c9a",
   "metadata": {},
   "outputs": [
    {
     "data": {
      "text/plain": [
       "[2.89, False, 'just chill', 2]"
      ]
     },
     "execution_count": 50,
     "metadata": {},
     "output_type": "execute_result"
    }
   ],
   "source": [
    "list1.reverse()\n",
    "list1"
   ]
  },
  {
   "cell_type": "code",
   "execution_count": 55,
   "id": "8ce7b799-7fcc-4a48-be14-0fb238d5aa38",
   "metadata": {},
   "outputs": [
    {
     "data": {
      "text/plain": [
       "['happy', 30, 12.5, True, 'Just Chill', 'Just Chill', 'Just Chill']"
      ]
     },
     "execution_count": 55,
     "metadata": {},
     "output_type": "execute_result"
    }
   ],
   "source": [
    "list2.append(\"Just Chill\")\n",
    "list2"
   ]
  },
  {
   "cell_type": "code",
   "execution_count": 57,
   "id": "ca55b548-03b5-4661-a241-2744c1a5f42d",
   "metadata": {},
   "outputs": [
    {
     "data": {
      "text/plain": [
       "[340, 200, 355, 56, 543, 2, 45, 24, 5342, 344, 34, 32]"
      ]
     },
     "execution_count": 57,
     "metadata": {},
     "output_type": "execute_result"
    }
   ],
   "source": [
    "list3 = [340,200,355,56,543,2,45,24,5342,344,34,32]\n",
    "list3"
   ]
  },
  {
   "cell_type": "code",
   "execution_count": 58,
   "id": "adffe5de-4ee1-4e14-9aa3-de3b22cb7495",
   "metadata": {},
   "outputs": [
    {
     "data": {
      "text/plain": [
       "[2, 24, 32, 34, 45, 56, 200, 340, 344, 355, 543, 5342]"
      ]
     },
     "execution_count": 58,
     "metadata": {},
     "output_type": "execute_result"
    }
   ],
   "source": [
    "list3.sort()\n",
    "list3"
   ]
  },
  {
   "cell_type": "code",
   "execution_count": 59,
   "id": "45f4844a-a398-40f3-b8fa-d979c4c056f3",
   "metadata": {},
   "outputs": [
    {
     "data": {
      "text/plain": [
       "[2,\n",
       " 24,\n",
       " 32,\n",
       " 34,\n",
       " 45,\n",
       " 56,\n",
       " 200,\n",
       " 340,\n",
       " 344,\n",
       " 355,\n",
       " 543,\n",
       " 5342,\n",
       " 2,\n",
       " 24,\n",
       " 32,\n",
       " 34,\n",
       " 45,\n",
       " 56,\n",
       " 200,\n",
       " 340,\n",
       " 344,\n",
       " 355,\n",
       " 543,\n",
       " 5342]"
      ]
     },
     "execution_count": 59,
     "metadata": {},
     "output_type": "execute_result"
    }
   ],
   "source": [
    "list3*2"
   ]
  },
  {
   "cell_type": "code",
   "execution_count": 60,
   "id": "737bd611-127d-4b77-b94f-85ae5348f243",
   "metadata": {},
   "outputs": [
    {
     "data": {
      "text/plain": [
       "[2.89,\n",
       " False,\n",
       " 'just chill',\n",
       " 2,\n",
       " 'happy',\n",
       " 30,\n",
       " 12.5,\n",
       " True,\n",
       " 'Just Chill',\n",
       " 'Just Chill',\n",
       " 'Just Chill',\n",
       " 2,\n",
       " 24,\n",
       " 32,\n",
       " 34,\n",
       " 45,\n",
       " 56,\n",
       " 200,\n",
       " 340,\n",
       " 344,\n",
       " 355,\n",
       " 543,\n",
       " 5342]"
      ]
     },
     "execution_count": 60,
     "metadata": {},
     "output_type": "execute_result"
    }
   ],
   "source": [
    "list1 + list2 + list3"
   ]
  },
  {
   "cell_type": "markdown",
   "id": "7dc6a8f7-cb69-47a7-a248-7348fd66dd1e",
   "metadata": {},
   "source": [
    "## 3- Dictionaries\n",
    "- An unordered collection of element\n",
    "- Key and value\n",
    "- Curly braces or brackets { }\n",
    "- Mutateable/change values "
   ]
  },
  {
   "cell_type": "code",
   "execution_count": 61,
   "id": "5991bc25-cfb3-4317-b93c-71a6bdcdbba9",
   "metadata": {},
   "outputs": [
    {
     "data": {
      "text/plain": [
       "{'biyani': 50, 'paratha': 30, 'haleem': 25, 'salad': 15, 'roll': 40}"
      ]
     },
     "execution_count": 61,
     "metadata": {},
     "output_type": "execute_result"
    }
   ],
   "source": [
    "## Food and their prices \n",
    "d1 = {\"biyani\" : 50, \"paratha\" : 30, \"haleem\" : 25, \"salad\": 15, \"roll\" : 40}\n",
    "d1"
   ]
  },
  {
   "cell_type": "code",
   "execution_count": 62,
   "id": "7efde395-0d7f-4727-8faf-d42dcc508576",
   "metadata": {},
   "outputs": [
    {
     "data": {
      "text/plain": [
       "dict"
      ]
     },
     "execution_count": 62,
     "metadata": {},
     "output_type": "execute_result"
    }
   ],
   "source": [
    "type(d1)"
   ]
  },
  {
   "cell_type": "code",
   "execution_count": 64,
   "id": "49f99300-ef7f-4354-9c68-7682be4dfd8f",
   "metadata": {},
   "outputs": [
    {
     "data": {
      "text/plain": [
       "dict_keys(['biyani', 'paratha', 'haleem', 'salad', 'roll'])"
      ]
     },
     "execution_count": 64,
     "metadata": {},
     "output_type": "execute_result"
    }
   ],
   "source": [
    "## extract data \n",
    "\n",
    "key1 = d1.keys()\n",
    "key1"
   ]
  },
  {
   "cell_type": "code",
   "execution_count": 65,
   "id": "243413a3-276c-4b05-bb4f-30de2a06e883",
   "metadata": {},
   "outputs": [
    {
     "data": {
      "text/plain": [
       "dict_values([50, 30, 25, 15, 40])"
      ]
     },
     "execution_count": 65,
     "metadata": {},
     "output_type": "execute_result"
    }
   ],
   "source": [
    "value1 = d1.values()\n",
    "value1"
   ]
  },
  {
   "cell_type": "code",
   "execution_count": 70,
   "id": "2aeffb88-5306-4e35-803d-eea0a2fac2e3",
   "metadata": {},
   "outputs": [
    {
     "data": {
      "text/plain": [
       "{'biyani': 50,\n",
       " 'paratha': 30,\n",
       " 'haleem': 25,\n",
       " 'salad': 15,\n",
       " 'roll': 40,\n",
       " 'tikka': 300}"
      ]
     },
     "execution_count": 70,
     "metadata": {},
     "output_type": "execute_result"
    }
   ],
   "source": [
    "########   Adding new element or item \n",
    "\n",
    "d1[\"tikka\"] = 300\n",
    "d1"
   ]
  },
  {
   "cell_type": "code",
   "execution_count": 71,
   "id": "b7d963ab-6511-497a-81b6-892ee9282e77",
   "metadata": {},
   "outputs": [
    {
     "data": {
      "text/plain": [
       "{'biyani': 50,\n",
       " 'paratha': 30,\n",
       " 'haleem': 25,\n",
       " 'salad': 15,\n",
       " 'roll': 40,\n",
       " 'tikka': 250}"
      ]
     },
     "execution_count": 71,
     "metadata": {},
     "output_type": "execute_result"
    }
   ],
   "source": [
    "  ######### Update the values   \n",
    "\n",
    "d1[\"tikka\"]= 250\n",
    "d1"
   ]
  },
  {
   "cell_type": "code",
   "execution_count": 72,
   "id": "e28ba319-cdbd-4e4d-8941-b7d9bd58804e",
   "metadata": {},
   "outputs": [
    {
     "data": {
      "text/plain": [
       "{'fries': 100, 'brost': 250, 'kabab': 200}"
      ]
     },
     "execution_count": 72,
     "metadata": {},
     "output_type": "execute_result"
    }
   ],
   "source": [
    "d2 ={\"fries\" :100, \"brost\": 250, \"kabab\" :200 }\n",
    "d2"
   ]
  },
  {
   "cell_type": "code",
   "execution_count": 75,
   "id": "57cd3ed4-f666-4fe1-bcb9-b2415684a5e6",
   "metadata": {},
   "outputs": [
    {
     "data": {
      "text/plain": [
       "{'biyani': 50,\n",
       " 'paratha': 30,\n",
       " 'haleem': 25,\n",
       " 'salad': 15,\n",
       " 'roll': 40,\n",
       " 'tikka': 250,\n",
       " 'fries': 100,\n",
       " 'brost': 250,\n",
       " 'kabab': 200}"
      ]
     },
     "execution_count": 75,
     "metadata": {},
     "output_type": "execute_result"
    }
   ],
   "source": [
    "#### Concateinate \n",
    "\n",
    "d1.update(d2)\n",
    "d1"
   ]
  },
  {
   "cell_type": "code",
   "execution_count": 74,
   "id": "65483661-b5cb-4e59-8633-591e9856e2cc",
   "metadata": {},
   "outputs": [
    {
     "name": "stdout",
     "output_type": "stream",
     "text": [
      "{'biyani': 50, 'paratha': 30, 'haleem': 25, 'salad': 15, 'roll': 40, 'tikka': 250, 'fries': 100, 'brost': 250, 'kabab': 200}\n"
     ]
    }
   ],
   "source": [
    "print(d1)"
   ]
  },
  {
   "cell_type": "markdown",
   "id": "96be3d0a-cb56-4c86-9cac-d1cbef3b64ba",
   "metadata": {},
   "source": [
    "## 4- Set\n",
    "- unordered and unindexed\n",
    "- curely braces are used { }\n",
    "- NO duplicates allowed "
   ]
  },
  {
   "cell_type": "code",
   "execution_count": 77,
   "id": "b4a25328-4e4b-473e-98ce-1739407de258",
   "metadata": {},
   "outputs": [
    {
     "data": {
      "text/plain": [
       "{1, 2, 2.4, 3, 5, 'happy', 'lahore'}"
      ]
     },
     "execution_count": 77,
     "metadata": {},
     "output_type": "execute_result"
    }
   ],
   "source": [
    "s1 = {2, 1,2,3,2.4,5, \"lahore\",\"happy\",True}\n",
    "s1"
   ]
  },
  {
   "cell_type": "code",
   "execution_count": 78,
   "id": "0726bd1d-045d-4685-89e4-6e9e8d440e96",
   "metadata": {},
   "outputs": [
    {
     "data": {
      "text/plain": [
       "{1, 2, 2.4, 3, 5, 'lahore'}"
      ]
     },
     "execution_count": 78,
     "metadata": {},
     "output_type": "execute_result"
    }
   ],
   "source": [
    "s1.remove(\"happy\")\n",
    "s1"
   ]
  }
 ],
 "metadata": {
  "kernelspec": {
   "display_name": "Python 3 (ipykernel)",
   "language": "python",
   "name": "python3"
  },
  "language_info": {
   "codemirror_mode": {
    "name": "ipython",
    "version": 3
   },
   "file_extension": ".py",
   "mimetype": "text/x-python",
   "name": "python",
   "nbconvert_exporter": "python",
   "pygments_lexer": "ipython3",
   "version": "3.11.7"
  }
 },
 "nbformat": 4,
 "nbformat_minor": 5
}
